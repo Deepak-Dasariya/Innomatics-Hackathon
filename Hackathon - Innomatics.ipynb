{
 "cells": [
  {
   "cell_type": "code",
   "execution_count": 1,
   "id": "e1d79d9e",
   "metadata": {},
   "outputs": [],
   "source": [
    "import numpy as np\n",
    "import pandas as pd\n",
    "import seaborn as sns\n",
    "import matplotlib.pyplot as plt\n",
    "%matplotlib inline"
   ]
  },
  {
   "cell_type": "code",
   "execution_count": 2,
   "id": "4e4eabf6",
   "metadata": {},
   "outputs": [],
   "source": [
    "from sklearn.model_selection import train_test_split\n",
    "from sklearn.linear_model import LogisticRegression\n",
    "from sklearn.neighbors import KNeighborsClassifier\n",
    "from sklearn.svm import SVC\n",
    "from sklearn.tree import DecisionTreeClassifier\n",
    "from sklearn.model_selection import GridSearchCV"
   ]
  },
  {
   "cell_type": "code",
   "execution_count": 3,
   "id": "44c139ff",
   "metadata": {},
   "outputs": [
    {
     "data": {
      "text/html": [
       "<div>\n",
       "<style scoped>\n",
       "    .dataframe tbody tr th:only-of-type {\n",
       "        vertical-align: middle;\n",
       "    }\n",
       "\n",
       "    .dataframe tbody tr th {\n",
       "        vertical-align: top;\n",
       "    }\n",
       "\n",
       "    .dataframe thead th {\n",
       "        text-align: right;\n",
       "    }\n",
       "</style>\n",
       "<table border=\"1\" class=\"dataframe\">\n",
       "  <thead>\n",
       "    <tr style=\"text-align: right;\">\n",
       "      <th></th>\n",
       "      <th>x1</th>\n",
       "      <th>x2</th>\n",
       "      <th>y</th>\n",
       "    </tr>\n",
       "  </thead>\n",
       "  <tbody>\n",
       "    <tr>\n",
       "      <th>0</th>\n",
       "      <td>-119.366669</td>\n",
       "      <td>115.000000</td>\n",
       "      <td>1</td>\n",
       "    </tr>\n",
       "    <tr>\n",
       "      <th>1</th>\n",
       "      <td>-101.108045</td>\n",
       "      <td>97.777159</td>\n",
       "      <td>1</td>\n",
       "    </tr>\n",
       "    <tr>\n",
       "      <th>2</th>\n",
       "      <td>-130.278658</td>\n",
       "      <td>106.767654</td>\n",
       "      <td>1</td>\n",
       "    </tr>\n",
       "    <tr>\n",
       "      <th>3</th>\n",
       "      <td>-114.703415</td>\n",
       "      <td>101.195477</td>\n",
       "      <td>1</td>\n",
       "    </tr>\n",
       "    <tr>\n",
       "      <th>4</th>\n",
       "      <td>-119.366669</td>\n",
       "      <td>115.000000</td>\n",
       "      <td>1</td>\n",
       "    </tr>\n",
       "  </tbody>\n",
       "</table>\n",
       "</div>"
      ],
      "text/plain": [
       "           x1          x2  y\n",
       "0 -119.366669  115.000000  1\n",
       "1 -101.108045   97.777159  1\n",
       "2 -130.278658  106.767654  1\n",
       "3 -114.703415  101.195477  1\n",
       "4 -119.366669  115.000000  1"
      ]
     },
     "execution_count": 3,
     "metadata": {},
     "output_type": "execute_result"
    }
   ],
   "source": [
    "df = pd.read_csv(\"C:\\\\Users\\\\Deepak Dasariya\\\\Desktop\\\\data.csv\")\n",
    "df.head()"
   ]
  },
  {
   "cell_type": "code",
   "execution_count": 4,
   "id": "97b399fc",
   "metadata": {
    "scrolled": true
   },
   "outputs": [
    {
     "data": {
      "text/plain": [
       "x1    5\n",
       "x2    3\n",
       "y     0\n",
       "dtype: int64"
      ]
     },
     "execution_count": 4,
     "metadata": {},
     "output_type": "execute_result"
    }
   ],
   "source": [
    "df.isna().sum()"
   ]
  },
  {
   "cell_type": "code",
   "execution_count": 5,
   "id": "d2f9bb14",
   "metadata": {
    "scrolled": true
   },
   "outputs": [],
   "source": [
    "df[\"x1\"].fillna(0, inplace=True)\n",
    "df[\"x2\"].fillna(0, inplace=True)"
   ]
  },
  {
   "cell_type": "code",
   "execution_count": 6,
   "id": "150c2fc8",
   "metadata": {},
   "outputs": [
    {
     "data": {
      "text/plain": [
       "x1    0\n",
       "x2    0\n",
       "y     0\n",
       "dtype: int64"
      ]
     },
     "execution_count": 6,
     "metadata": {},
     "output_type": "execute_result"
    }
   ],
   "source": [
    "df.isna().sum()"
   ]
  },
  {
   "cell_type": "code",
   "execution_count": 7,
   "id": "c16f27ee",
   "metadata": {},
   "outputs": [
    {
     "data": {
      "text/plain": [
       "0    1242\n",
       "1     985\n",
       "Name: y, dtype: int64"
      ]
     },
     "execution_count": 7,
     "metadata": {},
     "output_type": "execute_result"
    }
   ],
   "source": [
    "df['y'].value_counts()"
   ]
  },
  {
   "cell_type": "code",
   "execution_count": 8,
   "id": "4dd701ae",
   "metadata": {},
   "outputs": [
    {
     "data": {
      "image/png": "[encoded data removed]",
      "text/plain": [
       "<Figure size 432x288 with 1 Axes>"
      ]
     },
     "metadata": {
      "needs_background": "light"
     },
     "output_type": "display_data"
    }
   ],
   "source": [
    "# Plot the value counts with a bar graph\n",
    "df.y.value_counts().plot(kind=\"bar\", color=[\"salmon\", \"lightblue\"]);"
   ]
  },
  {
   "cell_type": "code",
   "execution_count": 9,
   "id": "aa93d73a",
   "metadata": {},
   "outputs": [
    {
     "data": {
      "text/html": [
       "<div>\n",
       "<style scoped>\n",
       "    .dataframe tbody tr th:only-of-type {\n",
       "        vertical-align: middle;\n",
       "    }\n",
       "\n",
       "    .dataframe tbody tr th {\n",
       "        vertical-align: top;\n",
       "    }\n",
       "\n",
       "    .dataframe thead th {\n",
       "        text-align: right;\n",
       "    }\n",
       "</style>\n",
       "<table border=\"1\" class=\"dataframe\">\n",
       "  <thead>\n",
       "    <tr style=\"text-align: right;\">\n",
       "      <th></th>\n",
       "      <th>x1</th>\n",
       "      <th>x2</th>\n",
       "      <th>y</th>\n",
       "    </tr>\n",
       "  </thead>\n",
       "  <tbody>\n",
       "    <tr>\n",
       "      <th>count</th>\n",
       "      <td>2227.000000</td>\n",
       "      <td>2.227000e+03</td>\n",
       "      <td>2227.000000</td>\n",
       "    </tr>\n",
       "    <tr>\n",
       "      <th>mean</th>\n",
       "      <td>-4.807947</td>\n",
       "      <td>8.935573e+04</td>\n",
       "      <td>0.442299</td>\n",
       "    </tr>\n",
       "    <tr>\n",
       "      <th>std</th>\n",
       "      <td>74.856045</td>\n",
       "      <td>2.981313e+06</td>\n",
       "      <td>0.496771</td>\n",
       "    </tr>\n",
       "    <tr>\n",
       "      <th>min</th>\n",
       "      <td>-134.369160</td>\n",
       "      <td>-1.348761e+02</td>\n",
       "      <td>0.000000</td>\n",
       "    </tr>\n",
       "    <tr>\n",
       "      <th>25%</th>\n",
       "      <td>-71.581453</td>\n",
       "      <td>-7.997687e+01</td>\n",
       "      <td>0.000000</td>\n",
       "    </tr>\n",
       "    <tr>\n",
       "      <th>50%</th>\n",
       "      <td>-9.124370</td>\n",
       "      <td>-1.000000e+00</td>\n",
       "      <td>0.000000</td>\n",
       "    </tr>\n",
       "    <tr>\n",
       "      <th>75%</th>\n",
       "      <td>59.633331</td>\n",
       "      <td>6.374987e+01</td>\n",
       "      <td>1.000000</td>\n",
       "    </tr>\n",
       "    <tr>\n",
       "      <th>max</th>\n",
       "      <td>134.508687</td>\n",
       "      <td>1.000000e+08</td>\n",
       "      <td>1.000000</td>\n",
       "    </tr>\n",
       "  </tbody>\n",
       "</table>\n",
       "</div>"
      ],
      "text/plain": [
       "                x1            x2            y\n",
       "count  2227.000000  2.227000e+03  2227.000000\n",
       "mean     -4.807947  8.935573e+04     0.442299\n",
       "std      74.856045  2.981313e+06     0.496771\n",
       "min    -134.369160 -1.348761e+02     0.000000\n",
       "25%     -71.581453 -7.997687e+01     0.000000\n",
       "50%      -9.124370 -1.000000e+00     0.000000\n",
       "75%      59.633331  6.374987e+01     1.000000\n",
       "max     134.508687  1.000000e+08     1.000000"
      ]
     },
     "execution_count": 9,
     "metadata": {},
     "output_type": "execute_result"
    }
   ],
   "source": [
    "df.describe()"
   ]
  },
  {
   "cell_type": "code",
   "execution_count": 10,
   "id": "9c2a3c80",
   "metadata": {},
   "outputs": [
    {
     "data": {
      "text/plain": [
       "(2227, 3)"
      ]
     },
     "execution_count": 10,
     "metadata": {},
     "output_type": "execute_result"
    }
   ],
   "source": [
    "df.shape"
   ]
  },
  {
   "cell_type": "code",
   "execution_count": 11,
   "id": "63652cf9",
   "metadata": {},
   "outputs": [
    {
     "name": "stdout",
     "output_type": "stream",
     "text": [
      "<class 'pandas.core.frame.DataFrame'>\n",
      "RangeIndex: 2227 entries, 0 to 2226\n",
      "Data columns (total 3 columns):\n",
      " #   Column  Non-Null Count  Dtype  \n",
      "---  ------  --------------  -----  \n",
      " 0   x1      2227 non-null   float64\n",
      " 1   x2      2227 non-null   float64\n",
      " 2   y       2227 non-null   int64  \n",
      "dtypes: float64(2), int64(1)\n",
      "memory usage: 52.3 KB\n"
     ]
    }
   ],
   "source": [
    "df.info()"
   ]
  },
  {
   "cell_type": "code",
   "execution_count": 12,
   "id": "a9f4e79c",
   "metadata": {},
   "outputs": [],
   "source": [
    "corr_matrix = df.corr()"
   ]
  },
  {
   "cell_type": "code",
   "execution_count": 13,
   "id": "2b96cb66",
   "metadata": {},
   "outputs": [
    {
     "data": {
      "text/html": [
       "<div>\n",
       "<style scoped>\n",
       "    .dataframe tbody tr th:only-of-type {\n",
       "        vertical-align: middle;\n",
       "    }\n",
       "\n",
       "    .dataframe tbody tr th {\n",
       "        vertical-align: top;\n",
       "    }\n",
       "\n",
       "    .dataframe thead th {\n",
       "        text-align: right;\n",
       "    }\n",
       "</style>\n",
       "<table border=\"1\" class=\"dataframe\">\n",
       "  <thead>\n",
       "    <tr style=\"text-align: right;\">\n",
       "      <th></th>\n",
       "      <th>x1</th>\n",
       "      <th>x2</th>\n",
       "      <th>y</th>\n",
       "    </tr>\n",
       "  </thead>\n",
       "  <tbody>\n",
       "    <tr>\n",
       "      <th>x1</th>\n",
       "      <td>1.000000</td>\n",
       "      <td>0.037277</td>\n",
       "      <td>-0.121106</td>\n",
       "    </tr>\n",
       "    <tr>\n",
       "      <th>x2</th>\n",
       "      <td>0.037277</td>\n",
       "      <td>1.000000</td>\n",
       "      <td>-0.026698</td>\n",
       "    </tr>\n",
       "    <tr>\n",
       "      <th>y</th>\n",
       "      <td>-0.121106</td>\n",
       "      <td>-0.026698</td>\n",
       "      <td>1.000000</td>\n",
       "    </tr>\n",
       "  </tbody>\n",
       "</table>\n",
       "</div>"
      ],
      "text/plain": [
       "          x1        x2         y\n",
       "x1  1.000000  0.037277 -0.121106\n",
       "x2  0.037277  1.000000 -0.026698\n",
       "y  -0.121106 -0.026698  1.000000"
      ]
     },
     "execution_count": 13,
     "metadata": {},
     "output_type": "execute_result"
    }
   ],
   "source": [
    "corr_matrix"
   ]
  },
  {
   "cell_type": "code",
   "execution_count": 14,
   "id": "31932c32",
   "metadata": {},
   "outputs": [
    {
     "data": {
      "image/png": "[encoded data removed]",
      "text/plain": [
       "<Figure size 432x432 with 2 Axes>"
      ]
     },
     "metadata": {
      "needs_background": "light"
     },
     "output_type": "display_data"
    }
   ],
   "source": [
    "# Let's make it look a little prettier\n",
    "corr_matrix = df.corr()\n",
    "plt.figure(figsize=(6, 6))\n",
    "sns.heatmap(corr_matrix,\n",
    " annot=True,\n",
    " linewidths=0.5,\n",
    " fmt= \".2f\",\n",
    " cmap=\"YlGnBu\");"
   ]
  },
  {
   "cell_type": "code",
   "execution_count": 15,
   "id": "9b38fd52",
   "metadata": {},
   "outputs": [],
   "source": [
    "X = df.drop(\"y\", axis=1)\n",
    "Y = df['y']"
   ]
  },
  {
   "cell_type": "code",
   "execution_count": 16,
   "id": "7a3bae48",
   "metadata": {},
   "outputs": [
    {
     "data": {
      "text/html": [
       "<div>\n",
       "<style scoped>\n",
       "    .dataframe tbody tr th:only-of-type {\n",
       "        vertical-align: middle;\n",
       "    }\n",
       "\n",
       "    .dataframe tbody tr th {\n",
       "        vertical-align: top;\n",
       "    }\n",
       "\n",
       "    .dataframe thead th {\n",
       "        text-align: right;\n",
       "    }\n",
       "</style>\n",
       "<table border=\"1\" class=\"dataframe\">\n",
       "  <thead>\n",
       "    <tr style=\"text-align: right;\">\n",
       "      <th></th>\n",
       "      <th>x1</th>\n",
       "      <th>x2</th>\n",
       "    </tr>\n",
       "  </thead>\n",
       "  <tbody>\n",
       "    <tr>\n",
       "      <th>0</th>\n",
       "      <td>-119.366669</td>\n",
       "      <td>115.000000</td>\n",
       "    </tr>\n",
       "    <tr>\n",
       "      <th>1</th>\n",
       "      <td>-101.108045</td>\n",
       "      <td>97.777159</td>\n",
       "    </tr>\n",
       "    <tr>\n",
       "      <th>2</th>\n",
       "      <td>-130.278658</td>\n",
       "      <td>106.767654</td>\n",
       "    </tr>\n",
       "    <tr>\n",
       "      <th>3</th>\n",
       "      <td>-114.703415</td>\n",
       "      <td>101.195477</td>\n",
       "    </tr>\n",
       "    <tr>\n",
       "      <th>4</th>\n",
       "      <td>-119.366669</td>\n",
       "      <td>115.000000</td>\n",
       "    </tr>\n",
       "  </tbody>\n",
       "</table>\n",
       "</div>"
      ],
      "text/plain": [
       "           x1          x2\n",
       "0 -119.366669  115.000000\n",
       "1 -101.108045   97.777159\n",
       "2 -130.278658  106.767654\n",
       "3 -114.703415  101.195477\n",
       "4 -119.366669  115.000000"
      ]
     },
     "execution_count": 16,
     "metadata": {},
     "output_type": "execute_result"
    }
   ],
   "source": [
    "X.head()"
   ]
  },
  {
   "cell_type": "code",
   "execution_count": 17,
   "id": "04d75d32",
   "metadata": {},
   "outputs": [
    {
     "data": {
      "text/plain": [
       "0    1\n",
       "1    1\n",
       "2    1\n",
       "3    1\n",
       "4    1\n",
       "Name: y, dtype: int64"
      ]
     },
     "execution_count": 17,
     "metadata": {},
     "output_type": "execute_result"
    }
   ],
   "source": [
    "Y.head()"
   ]
  },
  {
   "cell_type": "code",
   "execution_count": 18,
   "id": "c825fd53",
   "metadata": {},
   "outputs": [],
   "source": [
    "np.random.seed(42)\n",
    "X_train, X_test, Y_train, Y_test = train_test_split(X, Y, test_size=0.3)"
   ]
  },
  {
   "cell_type": "code",
   "execution_count": 19,
   "id": "cdea5e2a",
   "metadata": {},
   "outputs": [
    {
     "data": {
      "text/html": [
       "<div>\n",
       "<style scoped>\n",
       "    .dataframe tbody tr th:only-of-type {\n",
       "        vertical-align: middle;\n",
       "    }\n",
       "\n",
       "    .dataframe tbody tr th {\n",
       "        vertical-align: top;\n",
       "    }\n",
       "\n",
       "    .dataframe thead th {\n",
       "        text-align: right;\n",
       "    }\n",
       "</style>\n",
       "<table border=\"1\" class=\"dataframe\">\n",
       "  <thead>\n",
       "    <tr style=\"text-align: right;\">\n",
       "      <th></th>\n",
       "      <th>x1</th>\n",
       "      <th>x2</th>\n",
       "    </tr>\n",
       "  </thead>\n",
       "  <tbody>\n",
       "    <tr>\n",
       "      <th>583</th>\n",
       "      <td>-0.134339</td>\n",
       "      <td>12.738901</td>\n",
       "    </tr>\n",
       "    <tr>\n",
       "      <th>771</th>\n",
       "      <td>-50.366669</td>\n",
       "      <td>46.000000</td>\n",
       "    </tr>\n",
       "    <tr>\n",
       "      <th>2083</th>\n",
       "      <td>-126.267136</td>\n",
       "      <td>-123.706444</td>\n",
       "    </tr>\n",
       "    <tr>\n",
       "      <th>888</th>\n",
       "      <td>9.503954</td>\n",
       "      <td>-52.485991</td>\n",
       "    </tr>\n",
       "    <tr>\n",
       "      <th>1068</th>\n",
       "      <td>40.173980</td>\n",
       "      <td>50.024147</td>\n",
       "    </tr>\n",
       "  </tbody>\n",
       "</table>\n",
       "</div>"
      ],
      "text/plain": [
       "              x1          x2\n",
       "583    -0.134339   12.738901\n",
       "771   -50.366669   46.000000\n",
       "2083 -126.267136 -123.706444\n",
       "888     9.503954  -52.485991\n",
       "1068   40.173980   50.024147"
      ]
     },
     "execution_count": 19,
     "metadata": {},
     "output_type": "execute_result"
    }
   ],
   "source": [
    "X_train.head()"
   ]
  },
  {
   "cell_type": "code",
   "execution_count": 20,
   "id": "5d4f7ea7",
   "metadata": {},
   "outputs": [
    {
     "data": {
      "text/plain": [
       "56      1\n",
       "494     1\n",
       "1676    0\n",
       "218     1\n",
       "744     1\n",
       "Name: y, dtype: int64"
      ]
     },
     "execution_count": 20,
     "metadata": {},
     "output_type": "execute_result"
    }
   ],
   "source": [
    "Y_test.head()"
   ]
  },
  {
   "cell_type": "code",
   "execution_count": 21,
   "id": "aad1aa98",
   "metadata": {},
   "outputs": [],
   "source": [
    "models = {\"KNN\": KNeighborsClassifier(),\n",
    "          \"Logistic Regression\": LogisticRegression(),\n",
    "          \"SVM Linear\": SVC(kernel='linear'),\n",
    "          \"SVM rbf\": SVC(kernel='rbf'),\n",
    "          \"Decision Tree Classifier\" : DecisionTreeClassifier()}"
   ]
  },
  {
   "cell_type": "code",
   "execution_count": 22,
   "id": "983011fc",
   "metadata": {},
   "outputs": [],
   "source": [
    "def fit_and_score(models, X_train, X_test, Y_train, Y_test):\n",
    " # Random seed for reproducible results\n",
    "    np.random.seed(42)\n",
    " # Make a list to keep model scores\n",
    "    model_scores = {}\n",
    " # Loop through models\n",
    "    for name, model in models.items():\n",
    " # Fit the model to the data\n",
    "        model.fit(X_train, Y_train)\n",
    " # Evaluate the model and append its score to model_scores\n",
    "        model_scores[name] = model.score(X_test, Y_test)\n",
    "    \n",
    "    return model_scores"
   ]
  },
  {
   "cell_type": "code",
   "execution_count": 23,
   "id": "c2e3fabe",
   "metadata": {},
   "outputs": [
    {
     "data": {
      "text/plain": [
       "{'KNN': 0.9641255605381166,\n",
       " 'Logistic Regression': 0.5665171898355755,\n",
       " 'SVM Linear': 0.5426008968609866,\n",
       " 'SVM rbf': 0.5426008968609866,\n",
       " 'Decision Tree Classifier': 0.9476831091180867}"
      ]
     },
     "execution_count": 23,
     "metadata": {},
     "output_type": "execute_result"
    }
   ],
   "source": [
    "model_scores = fit_and_score(models=models,\n",
    "                             X_train=X_train,\n",
    "                             X_test=X_test,\n",
    "                             Y_train=Y_train,\n",
    "                             Y_test=Y_test)\n",
    "model_scores"
   ]
  },
  {
   "cell_type": "code",
   "execution_count": 24,
   "id": "49935131",
   "metadata": {},
   "outputs": [
    {
     "data": {
      "image/png": "[encoded data removed]",
      "text/plain": [
       "<Figure size 432x288 with 1 Axes>"
      ]
     },
     "metadata": {
      "needs_background": "light"
     },
     "output_type": "display_data"
    }
   ],
   "source": [
    "model_compare = pd.DataFrame(model_scores, index=['accuracy'])\n",
    "model_compare.T.plot.bar();"
   ]
  },
  {
   "cell_type": "markdown",
   "id": "ed4b8e1e",
   "metadata": {},
   "source": [
    "### Hyperparameter Tuning For KNN"
   ]
  },
  {
   "cell_type": "code",
   "execution_count": 25,
   "id": "032785b0",
   "metadata": {},
   "outputs": [],
   "source": [
    "# Create a list of train scores\n",
    "train_scores = []\n",
    "# Create a list of test scores\n",
    "test_scores = []\n",
    "# Create a list of different values for n_neighbors\n",
    "neighbors = range(1, 21) # 1 to 20\n",
    "\n",
    "knn = KNeighborsClassifier()\n",
    "# Loop through different neighbors values\n",
    "for i in neighbors:\n",
    "    knn.set_params(n_neighbors = i) # set neighbors value\n",
    " \n",
    " # Fit the algorithm\n",
    "    knn.fit(X_train, Y_train)\n",
    " \n",
    " # Update the training scores\n",
    "    train_scores.append(knn.score(X_train, Y_train))\n",
    " \n",
    " # Update the test scores\n",
    "    test_scores.append(knn.score(X_test, Y_test))"
   ]
  },
  {
   "cell_type": "code",
   "execution_count": 26,
   "id": "db6e415a",
   "metadata": {},
   "outputs": [
    {
     "data": {
      "text/plain": [
       "[1.0,\n",
       " 0.9672657252888318,\n",
       " 0.9711168164313222,\n",
       " 0.9576379974326059,\n",
       " 0.9576379974326059,\n",
       " 0.9563543003851092,\n",
       " 0.9550706033376123,\n",
       " 0.9492939666238768,\n",
       " 0.9473684210526315,\n",
       " 0.9473684210526315,\n",
       " 0.9454428754813864,\n",
       " 0.9454428754813864,\n",
       " 0.9435173299101413,\n",
       " 0.944801026957638,\n",
       " 0.9486521181001284,\n",
       " 0.9486521181001284,\n",
       " 0.9467265725288831,\n",
       " 0.9499358151476252,\n",
       " 0.94801026957638,\n",
       " 0.9473684210526315]"
      ]
     },
     "execution_count": 26,
     "metadata": {},
     "output_type": "execute_result"
    }
   ],
   "source": [
    "train_scores"
   ]
  },
  {
   "cell_type": "code",
   "execution_count": 27,
   "id": "8a5a81c8",
   "metadata": {
    "scrolled": true
   },
   "outputs": [
    {
     "name": "stdout",
     "output_type": "stream",
     "text": [
      "Maximum KNN score on the test data: 97.31%\n"
     ]
    },
    {
     "data": {
      "image/png": "[encoded data removed]",
      "text/plain": [
       "<Figure size 432x288 with 1 Axes>"
      ]
     },
     "metadata": {
      "needs_background": "light"
     },
     "output_type": "display_data"
    }
   ],
   "source": [
    "plt.plot(neighbors, train_scores, label=\"Train score\")\n",
    "plt.plot(neighbors, test_scores, label=\"Test score\")\n",
    "plt.xticks(np.arange(1, 21, 1))\n",
    "plt.xlabel(\"Number of neighbors\")\n",
    "plt.ylabel(\"Model score\")\n",
    "plt.legend()\n",
    "print(f\"Maximum KNN score on the test data: {max(test_scores)*100:.2f}%\")"
   ]
  },
  {
   "cell_type": "markdown",
   "id": "d2fd2072",
   "metadata": {},
   "source": [
    "### Hyperparameter Tuning For Logistic Regression "
   ]
  },
  {
   "cell_type": "code",
   "execution_count": 28,
   "id": "92f28744",
   "metadata": {},
   "outputs": [],
   "source": [
    "# Different LogisticRegression hyperparameters\n",
    "log_reg_grid = {\"C\": np.logspace(-4, 4, 20), \n",
    "                \"solver\": [\"liblinear\"]}"
   ]
  },
  {
   "cell_type": "code",
   "execution_count": 29,
   "id": "96f5ba82",
   "metadata": {},
   "outputs": [
    {
     "name": "stdout",
     "output_type": "stream",
     "text": [
      "Fitting 5 folds for each of 20 candidates, totalling 100 fits\n"
     ]
    },
    {
     "name": "stderr",
     "output_type": "stream",
     "text": [
      "C:\\Anaconda\\lib\\site-packages\\sklearn\\svm\\_base.py:985: ConvergenceWarning: Liblinear failed to converge, increase the number of iterations.\n",
      "  warnings.warn(\"Liblinear failed to converge, increase \"\n",
      "C:\\Anaconda\\lib\\site-packages\\sklearn\\svm\\_base.py:985: ConvergenceWarning: Liblinear failed to converge, increase the number of iterations.\n",
      "  warnings.warn(\"Liblinear failed to converge, increase \"\n",
      "C:\\Anaconda\\lib\\site-packages\\sklearn\\svm\\_base.py:985: ConvergenceWarning: Liblinear failed to converge, increase the number of iterations.\n",
      "  warnings.warn(\"Liblinear failed to converge, increase \"\n",
      "C:\\Anaconda\\lib\\site-packages\\sklearn\\svm\\_base.py:985: ConvergenceWarning: Liblinear failed to converge, increase the number of iterations.\n",
      "  warnings.warn(\"Liblinear failed to converge, increase \"\n",
      "C:\\Anaconda\\lib\\site-packages\\sklearn\\svm\\_base.py:985: ConvergenceWarning: Liblinear failed to converge, increase the number of iterations.\n",
      "  warnings.warn(\"Liblinear failed to converge, increase \"\n",
      "C:\\Anaconda\\lib\\site-packages\\sklearn\\svm\\_base.py:985: ConvergenceWarning: Liblinear failed to converge, increase the number of iterations.\n",
      "  warnings.warn(\"Liblinear failed to converge, increase \"\n",
      "C:\\Anaconda\\lib\\site-packages\\sklearn\\svm\\_base.py:985: ConvergenceWarning: Liblinear failed to converge, increase the number of iterations.\n",
      "  warnings.warn(\"Liblinear failed to converge, increase \"\n",
      "C:\\Anaconda\\lib\\site-packages\\sklearn\\svm\\_base.py:985: ConvergenceWarning: Liblinear failed to converge, increase the number of iterations.\n",
      "  warnings.warn(\"Liblinear failed to converge, increase \"\n",
      "C:\\Anaconda\\lib\\site-packages\\sklearn\\svm\\_base.py:985: ConvergenceWarning: Liblinear failed to converge, increase the number of iterations.\n",
      "  warnings.warn(\"Liblinear failed to converge, increase \"\n",
      "C:\\Anaconda\\lib\\site-packages\\sklearn\\svm\\_base.py:985: ConvergenceWarning: Liblinear failed to converge, increase the number of iterations.\n",
      "  warnings.warn(\"Liblinear failed to converge, increase \"\n",
      "C:\\Anaconda\\lib\\site-packages\\sklearn\\svm\\_base.py:985: ConvergenceWarning: Liblinear failed to converge, increase the number of iterations.\n",
      "  warnings.warn(\"Liblinear failed to converge, increase \"\n",
      "C:\\Anaconda\\lib\\site-packages\\sklearn\\svm\\_base.py:985: ConvergenceWarning: Liblinear failed to converge, increase the number of iterations.\n",
      "  warnings.warn(\"Liblinear failed to converge, increase \"\n",
      "C:\\Anaconda\\lib\\site-packages\\sklearn\\svm\\_base.py:985: ConvergenceWarning: Liblinear failed to converge, increase the number of iterations.\n",
      "  warnings.warn(\"Liblinear failed to converge, increase \"\n",
      "C:\\Anaconda\\lib\\site-packages\\sklearn\\svm\\_base.py:985: ConvergenceWarning: Liblinear failed to converge, increase the number of iterations.\n",
      "  warnings.warn(\"Liblinear failed to converge, increase \"\n",
      "C:\\Anaconda\\lib\\site-packages\\sklearn\\svm\\_base.py:985: ConvergenceWarning: Liblinear failed to converge, increase the number of iterations.\n",
      "  warnings.warn(\"Liblinear failed to converge, increase \"\n",
      "C:\\Anaconda\\lib\\site-packages\\sklearn\\svm\\_base.py:985: ConvergenceWarning: Liblinear failed to converge, increase the number of iterations.\n",
      "  warnings.warn(\"Liblinear failed to converge, increase \"\n",
      "C:\\Anaconda\\lib\\site-packages\\sklearn\\svm\\_base.py:985: ConvergenceWarning: Liblinear failed to converge, increase the number of iterations.\n",
      "  warnings.warn(\"Liblinear failed to converge, increase \"\n",
      "C:\\Anaconda\\lib\\site-packages\\sklearn\\svm\\_base.py:985: ConvergenceWarning: Liblinear failed to converge, increase the number of iterations.\n",
      "  warnings.warn(\"Liblinear failed to converge, increase \"\n",
      "C:\\Anaconda\\lib\\site-packages\\sklearn\\svm\\_base.py:985: ConvergenceWarning: Liblinear failed to converge, increase the number of iterations.\n",
      "  warnings.warn(\"Liblinear failed to converge, increase \"\n",
      "C:\\Anaconda\\lib\\site-packages\\sklearn\\svm\\_base.py:985: ConvergenceWarning: Liblinear failed to converge, increase the number of iterations.\n",
      "  warnings.warn(\"Liblinear failed to converge, increase \"\n",
      "C:\\Anaconda\\lib\\site-packages\\sklearn\\svm\\_base.py:985: ConvergenceWarning: Liblinear failed to converge, increase the number of iterations.\n",
      "  warnings.warn(\"Liblinear failed to converge, increase \"\n",
      "C:\\Anaconda\\lib\\site-packages\\sklearn\\svm\\_base.py:985: ConvergenceWarning: Liblinear failed to converge, increase the number of iterations.\n",
      "  warnings.warn(\"Liblinear failed to converge, increase \"\n",
      "C:\\Anaconda\\lib\\site-packages\\sklearn\\svm\\_base.py:985: ConvergenceWarning: Liblinear failed to converge, increase the number of iterations.\n",
      "  warnings.warn(\"Liblinear failed to converge, increase \"\n",
      "C:\\Anaconda\\lib\\site-packages\\sklearn\\svm\\_base.py:985: ConvergenceWarning: Liblinear failed to converge, increase the number of iterations.\n",
      "  warnings.warn(\"Liblinear failed to converge, increase \"\n",
      "C:\\Anaconda\\lib\\site-packages\\sklearn\\svm\\_base.py:985: ConvergenceWarning: Liblinear failed to converge, increase the number of iterations.\n",
      "  warnings.warn(\"Liblinear failed to converge, increase \"\n",
      "C:\\Anaconda\\lib\\site-packages\\sklearn\\svm\\_base.py:985: ConvergenceWarning: Liblinear failed to converge, increase the number of iterations.\n",
      "  warnings.warn(\"Liblinear failed to converge, increase \"\n",
      "C:\\Anaconda\\lib\\site-packages\\sklearn\\svm\\_base.py:985: ConvergenceWarning: Liblinear failed to converge, increase the number of iterations.\n",
      "  warnings.warn(\"Liblinear failed to converge, increase \"\n",
      "C:\\Anaconda\\lib\\site-packages\\sklearn\\svm\\_base.py:985: ConvergenceWarning: Liblinear failed to converge, increase the number of iterations.\n",
      "  warnings.warn(\"Liblinear failed to converge, increase \"\n",
      "C:\\Anaconda\\lib\\site-packages\\sklearn\\svm\\_base.py:985: ConvergenceWarning: Liblinear failed to converge, increase the number of iterations.\n",
      "  warnings.warn(\"Liblinear failed to converge, increase \"\n",
      "C:\\Anaconda\\lib\\site-packages\\sklearn\\svm\\_base.py:985: ConvergenceWarning: Liblinear failed to converge, increase the number of iterations.\n",
      "  warnings.warn(\"Liblinear failed to converge, increase \"\n",
      "C:\\Anaconda\\lib\\site-packages\\sklearn\\svm\\_base.py:985: ConvergenceWarning: Liblinear failed to converge, increase the number of iterations.\n",
      "  warnings.warn(\"Liblinear failed to converge, increase \"\n",
      "C:\\Anaconda\\lib\\site-packages\\sklearn\\svm\\_base.py:985: ConvergenceWarning: Liblinear failed to converge, increase the number of iterations.\n",
      "  warnings.warn(\"Liblinear failed to converge, increase \"\n",
      "C:\\Anaconda\\lib\\site-packages\\sklearn\\svm\\_base.py:985: ConvergenceWarning: Liblinear failed to converge, increase the number of iterations.\n",
      "  warnings.warn(\"Liblinear failed to converge, increase \"\n",
      "C:\\Anaconda\\lib\\site-packages\\sklearn\\svm\\_base.py:985: ConvergenceWarning: Liblinear failed to converge, increase the number of iterations.\n",
      "  warnings.warn(\"Liblinear failed to converge, increase \"\n",
      "C:\\Anaconda\\lib\\site-packages\\sklearn\\svm\\_base.py:985: ConvergenceWarning: Liblinear failed to converge, increase the number of iterations.\n",
      "  warnings.warn(\"Liblinear failed to converge, increase \"\n",
      "C:\\Anaconda\\lib\\site-packages\\sklearn\\svm\\_base.py:985: ConvergenceWarning: Liblinear failed to converge, increase the number of iterations.\n",
      "  warnings.warn(\"Liblinear failed to converge, increase \"\n",
      "C:\\Anaconda\\lib\\site-packages\\sklearn\\svm\\_base.py:985: ConvergenceWarning: Liblinear failed to converge, increase the number of iterations.\n",
      "  warnings.warn(\"Liblinear failed to converge, increase \"\n",
      "C:\\Anaconda\\lib\\site-packages\\sklearn\\svm\\_base.py:985: ConvergenceWarning: Liblinear failed to converge, increase the number of iterations.\n",
      "  warnings.warn(\"Liblinear failed to converge, increase \"\n"
     ]
    }
   ],
   "source": [
    "# Setup grid hyperparameter search for LogisticRegression\n",
    "gs_log_reg = GridSearchCV(LogisticRegression(),\n",
    "                          param_grid=log_reg_grid,\n",
    "                          cv=5,\n",
    "                          verbose=True)\n",
    "# Fit grid hyperparameter search model\n",
    "gs_log_reg.fit(X_train, Y_train);"
   ]
  },
  {
   "cell_type": "code",
   "execution_count": 30,
   "id": "d0cbef79",
   "metadata": {},
   "outputs": [
    {
     "data": {
      "text/plain": [
       "{'C': 0.004832930238571752, 'solver': 'liblinear'}"
      ]
     },
     "execution_count": 30,
     "metadata": {},
     "output_type": "execute_result"
    }
   ],
   "source": [
    "gs_log_reg.best_params_"
   ]
  },
  {
   "cell_type": "code",
   "execution_count": 31,
   "id": "056b662f",
   "metadata": {},
   "outputs": [
    {
     "data": {
      "text/plain": [
       "0.5455904334828101"
      ]
     },
     "execution_count": 31,
     "metadata": {},
     "output_type": "execute_result"
    }
   ],
   "source": [
    "gs_log_reg.score(X_test, Y_test)"
   ]
  },
  {
   "cell_type": "markdown",
   "id": "7b9540e4",
   "metadata": {},
   "source": [
    "### Hyperparameter Tuning of Decision Tree Classifier "
   ]
  },
  {
   "cell_type": "code",
   "execution_count": 32,
   "id": "96d45b05",
   "metadata": {},
   "outputs": [],
   "source": [
    "param_dict = {\"criterion\":[\"gini\", \"entropy\"],\n",
    "              \"max_depth\":range(1,10),\n",
    "              \"min_samples_split\":range(1,10),\n",
    "              \"min_samples_leaf\":range(1,5)\n",
    "}"
   ]
  },
  {
   "cell_type": "code",
   "execution_count": 33,
   "id": "3af18ecd",
   "metadata": {},
   "outputs": [
    {
     "name": "stdout",
     "output_type": "stream",
     "text": [
      "Fitting 2 folds for each of 648 candidates, totalling 1296 fits\n"
     ]
    },
    {
     "name": "stderr",
     "output_type": "stream",
     "text": [
      "C:\\Anaconda\\lib\\site-packages\\sklearn\\model_selection\\_search.py:918: UserWarning: One or more of the test scores are non-finite: [       nan 0.58215661 0.58215661 0.58215661 0.58215661 0.58215661\n",
      " 0.58215661 0.58215661 0.58215661        nan 0.58215661 0.58215661\n",
      " 0.58215661 0.58215661 0.58215661 0.58215661 0.58215661 0.58215661\n",
      "        nan 0.58215661 0.58215661 0.58215661 0.58215661 0.58215661\n",
      " 0.58215661 0.58215661 0.58215661        nan 0.58215661 0.58215661\n",
      " 0.58215661 0.58215661 0.58215661 0.58215661 0.58215661 0.58215661\n",
      "        nan 0.78112965 0.78112965 0.78112965 0.78112965 0.78112965\n",
      " 0.78112965 0.78112965 0.78112965        nan 0.78112965 0.78112965\n",
      " 0.78112965 0.78112965 0.78112965 0.78112965 0.78112965 0.78112965\n",
      "        nan 0.78112965 0.78112965 0.78112965 0.78112965 0.78112965\n",
      " 0.78112965 0.78112965 0.78112965        nan 0.78112965 0.78112965\n",
      " 0.78112965 0.78112965 0.78112965 0.78112965 0.78112965 0.78112965\n",
      "        nan 0.87869063 0.87869063 0.87869063 0.87869063 0.87869063\n",
      " 0.87869063 0.87869063 0.87869063        nan 0.87869063 0.87869063\n",
      " 0.87869063 0.87869063 0.87869063 0.87869063 0.87869063 0.87869063\n",
      "        nan 0.87869063 0.87869063 0.87869063 0.87869063 0.87869063\n",
      " 0.87869063 0.87869063 0.87869063        nan 0.87869063 0.87869063\n",
      " 0.87869063 0.87869063 0.87869063 0.87869063 0.87869063 0.87869063\n",
      "        nan 0.90436457 0.90436457 0.90436457 0.90436457 0.90436457\n",
      " 0.90436457 0.90436457 0.90436457        nan 0.90243902 0.90243902\n",
      " 0.90243902 0.90243902 0.90243902 0.90243902 0.90243902 0.90243902\n",
      "        nan 0.90115533 0.90115533 0.90115533 0.90115533 0.90115533\n",
      " 0.90115533 0.90115533 0.90115533        nan 0.90115533 0.90115533\n",
      " 0.90115533 0.90115533 0.90115533 0.90115533 0.90115533 0.90115533\n",
      "        nan 0.92811297 0.92811297 0.92875481 0.92875481 0.92875481\n",
      " 0.92875481 0.92875481 0.92875481        nan 0.92682927 0.92682927\n",
      " 0.92682927 0.92682927 0.92682927 0.92682927 0.92682927 0.92682927\n",
      "        nan 0.92554557 0.92554557 0.92554557 0.92554557 0.92554557\n",
      " 0.92554557 0.92554557 0.92554557        nan 0.92554557 0.92554557\n",
      " 0.92554557 0.92554557 0.92554557 0.92554557 0.92554557 0.92554557\n",
      "        nan 0.92875481 0.92875481 0.92939666 0.92939666 0.92939666\n",
      " 0.92939666 0.92939666 0.92939666        nan 0.92682927 0.92682927\n",
      " 0.92682927 0.92682927 0.92682927 0.92682927 0.92682927 0.92682927\n",
      "        nan 0.92618742 0.92618742 0.92618742 0.92618742 0.92618742\n",
      " 0.92618742 0.92618742 0.92618742        nan 0.92362003 0.92362003\n",
      " 0.92362003 0.92362003 0.92362003 0.92362003 0.92362003 0.92362003\n",
      "        nan 0.92426187 0.92426187 0.92490372 0.92426187 0.92554557\n",
      " 0.92554557 0.92554557 0.92554557        nan 0.92297818 0.92362003\n",
      " 0.92297818 0.92362003 0.92362003 0.92362003 0.92362003 0.92362003\n",
      "        nan 0.92362003 0.92362003 0.92362003 0.92362003 0.92362003\n",
      " 0.92362003 0.92362003 0.92362003        nan 0.92105263 0.92105263\n",
      " 0.92105263 0.92105263 0.92105263 0.92105263 0.92105263 0.92105263\n",
      "        nan 0.93003851 0.93003851 0.93068036 0.93003851 0.93132221\n",
      " 0.93132221 0.93068036 0.93196406        nan 0.92682927 0.92682927\n",
      " 0.92747112 0.92747112 0.92747112 0.92747112 0.92747112 0.92747112\n",
      "        nan 0.92682927 0.92682927 0.92682927 0.92682927 0.92682927\n",
      " 0.92747112 0.92747112 0.92682927        nan 0.92618742 0.92618742\n",
      " 0.92618742 0.92618742 0.92618742 0.92618742 0.92618742 0.92618742\n",
      "        nan 0.93196406 0.93068036 0.93068036 0.93068036 0.93132221\n",
      " 0.93196406 0.93068036 0.93196406        nan 0.93003851 0.93003851\n",
      " 0.92875481 0.92939666 0.92939666 0.92939666 0.92939666 0.92875481\n",
      "        nan 0.92875481 0.92875481 0.92875481 0.92875481 0.92875481\n",
      " 0.92875481 0.92875481 0.92811297        nan 0.92747112 0.92747112\n",
      " 0.92747112 0.92747112 0.92747112 0.92747112 0.92747112 0.92682927\n",
      "        nan 0.58215661 0.58215661 0.58215661 0.58215661 0.58215661\n",
      " 0.58215661 0.58215661 0.58215661        nan 0.58215661 0.58215661\n",
      " 0.58215661 0.58215661 0.58215661 0.58215661 0.58215661 0.58215661\n",
      "        nan 0.58215661 0.58215661 0.58215661 0.58215661 0.58215661\n",
      " 0.58215661 0.58215661 0.58215661        nan 0.58215661 0.58215661\n",
      " 0.58215661 0.58215661 0.58215661 0.58215661 0.58215661 0.58215661\n",
      "        nan 0.76636714 0.76636714 0.76636714 0.76636714 0.76636714\n",
      " 0.76636714 0.76636714 0.76636714        nan 0.76636714 0.76636714\n",
      " 0.76636714 0.76636714 0.76636714 0.76636714 0.76636714 0.76636714\n",
      "        nan 0.76636714 0.76636714 0.76636714 0.76636714 0.76636714\n",
      " 0.76636714 0.76636714 0.76636714        nan 0.76636714 0.76636714\n",
      " 0.76636714 0.76636714 0.76636714 0.76636714 0.76636714 0.76636714\n",
      "        nan 0.8491656  0.8491656  0.8491656  0.8491656  0.8491656\n",
      " 0.8491656  0.8491656  0.8491656         nan 0.8491656  0.8491656\n",
      " 0.8491656  0.8491656  0.8491656  0.8491656  0.8491656  0.8491656\n",
      "        nan 0.8491656  0.8491656  0.8491656  0.8491656  0.8491656\n",
      " 0.8491656  0.8491656  0.8491656         nan 0.8491656  0.8491656\n",
      " 0.8491656  0.8491656  0.8491656  0.8491656  0.8491656  0.8491656\n",
      "        nan 0.86200257 0.86200257 0.86200257 0.86200257 0.86200257\n",
      " 0.86200257 0.86200257 0.86200257        nan 0.86200257 0.86200257\n",
      " 0.86200257 0.86200257 0.86200257 0.86200257 0.86200257 0.86200257\n",
      "        nan 0.86200257 0.86200257 0.86200257 0.86200257 0.86200257\n",
      " 0.86200257 0.86200257 0.86200257        nan 0.86200257 0.86200257\n",
      " 0.86200257 0.86200257 0.86200257 0.86200257 0.86200257 0.86200257\n",
      "        nan 0.92554557 0.92554557 0.92554557 0.92554557 0.92554557\n",
      " 0.92554557 0.92554557 0.92554557        nan 0.92554557 0.92554557\n",
      " 0.92554557 0.92554557 0.92554557 0.92554557 0.92554557 0.92554557\n",
      "        nan 0.92554557 0.92554557 0.92554557 0.92554557 0.92554557\n",
      " 0.92554557 0.92554557 0.92554557        nan 0.92554557 0.92554557\n",
      " 0.92554557 0.92554557 0.92554557 0.92554557 0.92554557 0.92554557\n",
      "        nan 0.93260591 0.93260591 0.93260591 0.93260591 0.93260591\n",
      " 0.93260591 0.93260591 0.93260591        nan 0.93260591 0.93260591\n",
      " 0.93260591 0.93260591 0.93260591 0.93260591 0.93260591 0.93260591\n",
      "        nan 0.93260591 0.93260591 0.93260591 0.93260591 0.93260591\n",
      " 0.93260591 0.93260591 0.93260591        nan 0.93260591 0.93260591\n",
      " 0.93260591 0.93260591 0.93260591 0.93260591 0.93260591 0.93260591\n",
      "        nan 0.93003851 0.93003851 0.93003851 0.93003851 0.93132221\n",
      " 0.93132221 0.93132221 0.93132221        nan 0.93132221 0.93132221\n",
      " 0.93132221 0.93132221 0.93132221 0.93132221 0.93132221 0.93132221\n",
      "        nan 0.93132221 0.93132221 0.93132221 0.93132221 0.93132221\n",
      " 0.93132221 0.93132221 0.93132221        nan 0.93260591 0.93260591\n",
      " 0.93260591 0.93260591 0.93260591 0.93260591 0.93260591 0.93260591\n",
      "        nan 0.92875481 0.92875481 0.92747112 0.92747112 0.92875481\n",
      " 0.92875481 0.92811297 0.92811297        nan 0.92747112 0.92747112\n",
      " 0.92747112 0.92747112 0.92747112 0.92747112 0.92747112 0.92747112\n",
      "        nan 0.93003851 0.93003851 0.93003851 0.93003851 0.93003851\n",
      " 0.93003851 0.93003851 0.93003851        nan 0.93132221 0.93132221\n",
      " 0.93132221 0.93132221 0.93132221 0.93132221 0.93132221 0.93132221\n",
      "        nan 0.93132221 0.92939666 0.92939666 0.92682927 0.92811297\n",
      " 0.92811297 0.92747112 0.92811297        nan 0.92811297 0.92811297\n",
      " 0.92811297 0.92682927 0.92682927 0.92682927 0.92682927 0.92618742\n",
      "        nan 0.92811297 0.92811297 0.92811297 0.92811297 0.92875481\n",
      " 0.92811297 0.92875481 0.92747112        nan 0.93196406 0.93260591\n",
      " 0.93260591 0.93196406 0.93260591 0.93196406 0.93260591 0.93196406]\n",
      "  warnings.warn(\n"
     ]
    },
    {
     "data": {
      "text/plain": [
       "GridSearchCV(cv=2, estimator=DecisionTreeClassifier(), n_jobs=-1,\n",
       "             param_grid={'criterion': ['gini', 'entropy'],\n",
       "                         'max_depth': range(1, 10),\n",
       "                         'min_samples_leaf': range(1, 5),\n",
       "                         'min_samples_split': range(1, 10)},\n",
       "             verbose=1)"
      ]
     },
     "execution_count": 33,
     "metadata": {},
     "output_type": "execute_result"
    }
   ],
   "source": [
    "grid = GridSearchCV(DecisionTreeClassifier(),\n",
    "                     param_grid=param_dict,\n",
    "                     cv=2,\n",
    "                     verbose=1,\n",
    "                     n_jobs=-1)\n",
    "\n",
    "grid.fit(X_train, Y_train)"
   ]
  },
  {
   "cell_type": "code",
   "execution_count": 34,
   "id": "b9518220",
   "metadata": {
    "scrolled": true
   },
   "outputs": [
    {
     "data": {
      "text/plain": [
       "{'criterion': 'entropy',\n",
       " 'max_depth': 6,\n",
       " 'min_samples_leaf': 1,\n",
       " 'min_samples_split': 2}"
      ]
     },
     "execution_count": 34,
     "metadata": {},
     "output_type": "execute_result"
    }
   ],
   "source": [
    "grid.best_params_"
   ]
  },
  {
   "cell_type": "code",
   "execution_count": 35,
   "id": "4f69fd71",
   "metadata": {},
   "outputs": [
    {
     "data": {
      "text/plain": [
       "DecisionTreeClassifier(criterion='entropy', max_depth=6)"
      ]
     },
     "execution_count": 35,
     "metadata": {},
     "output_type": "execute_result"
    }
   ],
   "source": [
    "grid.best_estimator_"
   ]
  },
  {
   "cell_type": "code",
   "execution_count": 36,
   "id": "31cc56b2",
   "metadata": {},
   "outputs": [
    {
     "data": {
      "text/plain": [
       "0.9326059050064185"
      ]
     },
     "execution_count": 36,
     "metadata": {},
     "output_type": "execute_result"
    }
   ],
   "source": [
    "grid.best_score_"
   ]
  },
  {
   "cell_type": "markdown",
   "id": "c77b7507",
   "metadata": {},
   "source": [
    "### Hyperparameter Tuning of SVM with Linear Kernel"
   ]
  },
  {
   "cell_type": "code",
   "execution_count": 37,
   "id": "d238a417",
   "metadata": {},
   "outputs": [],
   "source": [
    " # defining parameter range\n",
    "param_grid = {'C': [10], \n",
    "              'gamma': [1],\n",
    "              'kernel': ['linear']}"
   ]
  },
  {
   "cell_type": "code",
   "execution_count": 44,
   "id": "e229393a",
   "metadata": {},
   "outputs": [
    {
     "name": "stdout",
     "output_type": "stream",
     "text": [
      "Fitting 5 folds for each of 1 candidates, totalling 5 fits\n",
      "[CV 1/5] END ......................C=10, gamma=1, kernel=rbf; total time=   0.3s\n",
      "[CV 2/5] END ......................C=10, gamma=1, kernel=rbf; total time=   0.2s\n",
      "[CV 3/5] END ......................C=10, gamma=1, kernel=rbf; total time=   0.2s\n",
      "[CV 4/5] END ......................C=10, gamma=1, kernel=rbf; total time=   0.3s\n",
      "[CV 5/5] END ......................C=10, gamma=1, kernel=rbf; total time=   0.3s\n"
     ]
    },
    {
     "data": {
      "text/plain": [
       "GridSearchCV(estimator=SVC(),\n",
       "             param_grid={'C': [10], 'gamma': [1], 'kernel': ['rbf']},\n",
       "             verbose=3)"
      ]
     },
     "execution_count": 44,
     "metadata": {},
     "output_type": "execute_result"
    }
   ],
   "source": [
    "grid = GridSearchCV(SVC(), param_grid, refit = True, verbose = 3)\n",
    "# fitting the model for grid search\n",
    "grid.fit(X_train, Y_train)"
   ]
  },
  {
   "cell_type": "code",
   "execution_count": 45,
   "id": "64ec1c52",
   "metadata": {},
   "outputs": [
    {
     "name": "stdout",
     "output_type": "stream",
     "text": [
      "{'C': 10, 'gamma': 1, 'kernel': 'rbf'}\n",
      "SVC(C=10, gamma=1)\n"
     ]
    },
    {
     "data": {
      "text/plain": [
       "0.6335105944430703"
      ]
     },
     "execution_count": 45,
     "metadata": {},
     "output_type": "execute_result"
    }
   ],
   "source": [
    "# print best parameter after tuning\n",
    "print(grid.best_params_)\n",
    "  \n",
    "# print how our model looks after hyper-parameter tuning\n",
    "print(grid.best_estimator_)\n",
    "\n",
    "# print the accuracy\n",
    "grid.best_score_"
   ]
  },
  {
   "cell_type": "markdown",
   "id": "68dd9603",
   "metadata": {},
   "source": [
    "### Hyperparamter Tuning of SVM with rbf kernel"
   ]
  },
  {
   "cell_type": "code",
   "execution_count": 40,
   "id": "2028711d",
   "metadata": {},
   "outputs": [],
   "source": [
    " # defining parameter range\n",
    "param_grid = {'C': [10], \n",
    "              'gamma': [1],\n",
    "              'kernel': ['rbf']}"
   ]
  },
  {
   "cell_type": "code",
   "execution_count": 41,
   "id": "62679a70",
   "metadata": {},
   "outputs": [
    {
     "name": "stdout",
     "output_type": "stream",
     "text": [
      "Fitting 5 folds for each of 1 candidates, totalling 5 fits\n"
     ]
    },
    {
     "data": {
      "text/plain": [
       "GridSearchCV(estimator=SVC(),\n",
       "             param_grid={'C': [10], 'gamma': [1], 'kernel': ['rbf']},\n",
       "             verbose=1)"
      ]
     },
     "execution_count": 41,
     "metadata": {},
     "output_type": "execute_result"
    }
   ],
   "source": [
    "grid = GridSearchCV(SVC(), param_grid, refit = True, verbose = 1)\n",
    "# fitting the model for grid search\n",
    "grid.fit(X_train, Y_train)"
   ]
  },
  {
   "cell_type": "code",
   "execution_count": 42,
   "id": "77f086e0",
   "metadata": {},
   "outputs": [
    {
     "name": "stdout",
     "output_type": "stream",
     "text": [
      "{'C': 10, 'gamma': 1, 'kernel': 'rbf'}\n",
      "SVC(C=10, gamma=1)\n"
     ]
    }
   ],
   "source": [
    "# print best parameter after tuning\n",
    "print(grid.best_params_)\n",
    "  \n",
    "# print how our model looks after hyper-parameter tuning\n",
    "print(grid.best_estimator_)"
   ]
  },
  {
   "cell_type": "code",
   "execution_count": 43,
   "id": "1b5ee846",
   "metadata": {},
   "outputs": [
    {
     "data": {
      "text/plain": [
       "0.6335105944430703"
      ]
     },
     "execution_count": 43,
     "metadata": {},
     "output_type": "execute_result"
    }
   ],
   "source": [
    "grid.best_score_"
   ]
  },
  {
   "cell_type": "markdown",
   "id": "a5d86b92",
   "metadata": {},
   "source": [
    "## KNN Model has the highest Accuracy\n",
    "   \n",
    "   KNN model is better accuracy followed by Decision tree than others because the data we have is non-linear.\n",
    "   The KNN algorithm can compete with the most accurate models because it makes highly accurate        prediction. \n",
    "   Therefore, you can use the KNN algorithm for applications that require high accuracy.\n",
    " "
   ]
  }
 ],
 "metadata": {
  "kernelspec": {
   "display_name": "Python 3",
   "language": "python",
   "name": "python3"
  },
  "language_info": {
   "codemirror_mode": {
    "name": "ipython",
    "version": 3
   },
   "file_extension": ".py",
   "mimetype": "text/x-python",
   "name": "python",
   "nbconvert_exporter": "python",
   "pygments_lexer": "ipython3",
   "version": "3.8.8"
  }
 },
 "nbformat": 4,
 "nbformat_minor": 5
}
